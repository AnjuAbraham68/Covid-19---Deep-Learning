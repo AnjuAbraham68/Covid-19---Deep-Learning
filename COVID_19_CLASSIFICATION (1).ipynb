{
  "nbformat": 4,
  "nbformat_minor": 0,
  "metadata": {
    "colab": {
      "name": "COVID-19_CLASSIFICATION.ipynb",
      "provenance": [],
      "collapsed_sections": []
    },
    "kernelspec": {
      "name": "python3",
      "display_name": "Python 3"
    },
    "language_info": {
      "name": "python"
    }
  },
  "cells": [
    {
      "cell_type": "code",
      "metadata": {
        "id": "Nyyri2M6ElKN",
        "colab": {
          "base_uri": "https://localhost:8080/"
        },
        "outputId": "4ba44d8c-81c7-41b6-ceb4-2957a5de18c7"
      },
      "source": [
        "from google.colab import drive\n",
        "drive.mount('/content/drive')"
      ],
      "execution_count": null,
      "outputs": [
        {
          "output_type": "stream",
          "text": [
            "Drive already mounted at /content/drive; to attempt to forcibly remount, call drive.mount(\"/content/drive\", force_remount=True).\n"
          ],
          "name": "stdout"
        }
      ]
    },
    {
      "cell_type": "code",
      "metadata": {
        "id": "XNnOyFuMZAPv"
      },
      "source": [
        "import numpy as np\n",
        "import matplotlib.pyplot as plt\n",
        "import keras\n",
        "from keras.layers import *\n",
        "from keras.models import * \n",
        "from keras.preprocessing import image\n",
        "import torch\n",
        "import torchvision\n",
        "import os\n",
        "import random\n",
        "from PIL import Image"
      ],
      "execution_count": null,
      "outputs": []
    },
    {
      "cell_type": "code",
      "metadata": {
        "id": "3H6n_011ZMsp"
      },
      "source": [
        "model = Sequential()\n",
        "model.add(Conv2D(32,kernel_size=(3,3),activation='relu',input_shape=(224,224,3)))\n",
        "model.add(Conv2D(64,(3,3),activation='relu'))\n",
        "model.add(MaxPooling2D(pool_size=(2,2), strides=(2,2), padding='valid'))\n",
        "model.add(Dropout(0.25))\n",
        "\n",
        "model.add(Conv2D(64,(3,3),activation='relu'))\n",
        "model.add(MaxPooling2D(pool_size=(2,2), strides=(2,2), padding='valid'))\n",
        "model.add(Dropout(0.25))\n",
        "\n",
        "model.add(Conv2D(128,(3,3),activation='relu'))\n",
        "model.add(MaxPooling2D(pool_size=(2,2), strides=(2,2), padding='valid'))\n",
        "model.add(Dropout(0.25))\n",
        "\n",
        "model.add(Flatten())\n",
        "model.add(Dense(64,activation='relu'))\n",
        "model.add(Dropout(0.5))\n",
        "model.add(Dense(1,activation='sigmoid'))\n",
        "opt = keras.optimizers.Adam()\n",
        "model.compile(loss=keras.losses.binary_crossentropy,optimizer=opt,metrics=['accuracy'])"
      ],
      "execution_count": null,
      "outputs": []
    },
    {
      "cell_type": "code",
      "metadata": {
        "id": "DQdDpIQmZSBg",
        "colab": {
          "base_uri": "https://localhost:8080/"
        },
        "outputId": "07f3aff6-0d45-46d9-b095-8fe8a0463656"
      },
      "source": [
        "model.summary()"
      ],
      "execution_count": null,
      "outputs": [
        {
          "output_type": "stream",
          "text": [
            "Model: \"sequential\"\n",
            "_________________________________________________________________\n",
            "Layer (type)                 Output Shape              Param #   \n",
            "=================================================================\n",
            "conv2d (Conv2D)              (None, 222, 222, 32)      896       \n",
            "_________________________________________________________________\n",
            "conv2d_1 (Conv2D)            (None, 220, 220, 64)      18496     \n",
            "_________________________________________________________________\n",
            "max_pooling2d (MaxPooling2D) (None, 110, 110, 64)      0         \n",
            "_________________________________________________________________\n",
            "dropout (Dropout)            (None, 110, 110, 64)      0         \n",
            "_________________________________________________________________\n",
            "conv2d_2 (Conv2D)            (None, 108, 108, 64)      36928     \n",
            "_________________________________________________________________\n",
            "max_pooling2d_1 (MaxPooling2 (None, 54, 54, 64)        0         \n",
            "_________________________________________________________________\n",
            "dropout_1 (Dropout)          (None, 54, 54, 64)        0         \n",
            "_________________________________________________________________\n",
            "conv2d_3 (Conv2D)            (None, 52, 52, 128)       73856     \n",
            "_________________________________________________________________\n",
            "max_pooling2d_2 (MaxPooling2 (None, 26, 26, 128)       0         \n",
            "_________________________________________________________________\n",
            "dropout_2 (Dropout)          (None, 26, 26, 128)       0         \n",
            "_________________________________________________________________\n",
            "flatten (Flatten)            (None, 86528)             0         \n",
            "_________________________________________________________________\n",
            "dense (Dense)                (None, 64)                5537856   \n",
            "_________________________________________________________________\n",
            "dropout_3 (Dropout)          (None, 64)                0         \n",
            "_________________________________________________________________\n",
            "dense_1 (Dense)              (None, 1)                 65        \n",
            "=================================================================\n",
            "Total params: 5,668,097\n",
            "Trainable params: 5,668,097\n",
            "Non-trainable params: 0\n",
            "_________________________________________________________________\n"
          ],
          "name": "stdout"
        }
      ]
    },
    {
      "cell_type": "code",
      "metadata": {
        "id": "Y-3kud6gZXTt"
      },
      "source": [
        "model.save('covid.h5')"
      ],
      "execution_count": null,
      "outputs": []
    },
    {
      "cell_type": "code",
      "metadata": {
        "id": "C9gW_h7IZoTM"
      },
      "source": [
        "train_datagen = image.ImageDataGenerator(\n",
        "    rescale = 1./255,\n",
        "    shear_range = 0.2,\n",
        "    zoom_range = 0.2,\n",
        "    horizontal_flip = True,\n",
        ")\n",
        "\n",
        "test_dataset = image.ImageDataGenerator(rescale=1./255)"
      ],
      "execution_count": null,
      "outputs": []
    },
    {
      "cell_type": "code",
      "metadata": {
        "id": "LFDcUTWe8hQ4"
      },
      "source": [
        "class ChestXRayDataset(torch.utils.data.Dataset):\n",
        "    def __init__(self, image_dirs,transform):\n",
        "        def get_images(class_name):\n",
        "            images = [x for x in os.listdir(image_dirs[class_name]) if x.lower().endswith('png')]\n",
        "            print(f'Found {len(images)} {class_name}')\n",
        "            return images\n",
        "        self.images={}\n",
        "        self.class_names=['normal','covid']\n",
        "        for c in self.class_names:\n",
        "            self.images[c]=get_images(c)\n",
        "        self.image_dirs=image_dirs\n",
        "        self.transform=transform\n",
        "    def __len__(self):\n",
        "        return sum([len(self.images[c]) for c in self.class_names])\n",
        "    def __getitem__(self, index):\n",
        "        class_name=random.choice(self.class_names)\n",
        "        index=index%len(self.images[class_name])\n",
        "        image_name=self.images[class_name][index]\n",
        "        image_path =os.path.join(self.image_dirs[class_name], image_name)\n",
        "        image=Image.open(image_path).convert('RGB')\n",
        "        return self.transform(image), self.class_names.index(class_name)"
      ],
      "execution_count": null,
      "outputs": []
    },
    {
      "cell_type": "code",
      "metadata": {
        "id": "9dP8aC1e8sOH"
      },
      "source": [
        "train_transform = torchvision.transforms.Compose([\n",
        "    torchvision.transforms.Resize(size=(224,224)),\n",
        "    torchvision.transforms.RandomHorizontalFlip(),\n",
        "    torchvision.transforms.ToTensor(),\n",
        "    torchvision.transforms.Normalize(mean=[0.485, 0.456, 0.406], std=[0.229,0.224,0.225])\n",
        "])"
      ],
      "execution_count": null,
      "outputs": []
    },
    {
      "cell_type": "code",
      "metadata": {
        "id": "gHqADU4a8vyY",
        "colab": {
          "base_uri": "https://localhost:8080/"
        },
        "outputId": "11dfed9f-d8ce-4276-8571-536edf041df5"
      },
      "source": [
        "train_dirs = {\n",
        "    'normal': '/content/drive/MyDrive/Colab Notebooks/cnn /Train/NORMAL',\n",
        "    'covid': '/content/drive/MyDrive/Colab Notebooks/cnn /Train/COVID'\n",
        "}\n",
        "train_dataset=ChestXRayDataset(train_dirs, train_transform)"
      ],
      "execution_count": null,
      "outputs": [
        {
          "output_type": "stream",
          "text": [
            "Found 1200 normal\n",
            "Found 1200 covid\n"
          ],
          "name": "stdout"
        }
      ]
    },
    {
      "cell_type": "code",
      "metadata": {
        "colab": {
          "base_uri": "https://localhost:8080/"
        },
        "id": "OL-xQLPDZu4j",
        "outputId": "b323e369-8ba1-41b8-9ca9-2b866ea8d12d"
      },
      "source": [
        "train_generator = train_datagen.flow_from_directory(\n",
        "    '/content/drive/MyDrive/Colab Notebooks/cnn /Train',\n",
        "    target_size = (224,224),\n",
        "    batch_size = 32,\n",
        "    class_mode = 'binary')\n",
        "dl_train = torch.utils.data.DataLoader(train_dataset, batch_size=32, shuffle=True)"
      ],
      "execution_count": null,
      "outputs": [
        {
          "output_type": "stream",
          "text": [
            "Found 2400 images belonging to 2 classes.\n"
          ],
          "name": "stdout"
        }
      ]
    },
    {
      "cell_type": "code",
      "metadata": {
        "id": "2LxTpYUoWeOb"
      },
      "source": [
        "class_names=train_dataset.class_names\n",
        "def show_images(images, labels, preds):\n",
        "    plt.figure(figsize=(24,20))\n",
        "    for i, image in enumerate(images):\n",
        "        plt.subplot(1,32,i+1, xticks=[], yticks=[])\n",
        "        image=image.numpy().transpose((1,2,0))\n",
        "        mean=np.array([0.485,0.456,0.406])\n",
        "        std= np.array([0.229, 0.224, 0.225])\n",
        "        image=image*std/mean\n",
        "        image=np.clip(image,0.,1.)\n",
        "        plt.imshow(image)\n",
        "        col = 'green' if preds[i]==labels[i] else 'red'\n",
        "        plt.xlabel(f'{class_names[int(labels[i].numpy())]}')\n",
        "        plt.ylabel(f'{class_names[int(preds[i].numpy())]}', color=col)\n",
        "    plt.tight_layout()\n",
        "    plt.show()"
      ],
      "execution_count": null,
      "outputs": []
    },
    {
      "cell_type": "code",
      "metadata": {
        "id": "l4eCylX4Wi_F",
        "colab": {
          "base_uri": "https://localhost:8080/",
          "height": 50
        },
        "outputId": "b5c699ab-d883-48bc-bb55-fb9796ebbf58"
      },
      "source": [
        "images, labels =next(iter(dl_train))\n",
        "show_images(images, labels, labels)"
      ],
      "execution_count": null,
      "outputs": [
        {
          "output_type": "display_data",
          "data": {
            "image/png": "[encoded data removed]",
            "text/plain": [
              "<Figure size 1728x1440 with 32 Axes>"
            ]
          },
          "metadata": {
            "tags": []
          }
        }
      ]
    },
    {
      "cell_type": "code",
      "metadata": {
        "colab": {
          "base_uri": "https://localhost:8080/"
        },
        "id": "PXvJEL33aFfu",
        "outputId": "f4321d9b-2fc0-489a-9bd5-c7af9bbfd1e6"
      },
      "source": [
        "train_generator.class_indices"
      ],
      "execution_count": null,
      "outputs": [
        {
          "output_type": "execute_result",
          "data": {
            "text/plain": [
              "{'COVID': 0, 'NORMAL': 1}"
            ]
          },
          "metadata": {
            "tags": []
          },
          "execution_count": 23
        }
      ]
    },
    {
      "cell_type": "code",
      "metadata": {
        "colab": {
          "base_uri": "https://localhost:8080/"
        },
        "id": "kTy-b_oUKDEi",
        "outputId": "8ff6d20a-812b-49c1-998c-c8c2d499d424"
      },
      "source": [
        "validation_generator = test_dataset.flow_from_directory(\n",
        "    '/content/drive/MyDrive/Colab Notebooks/cnn /Test',\n",
        "    target_size = (224,224),\n",
        "    batch_size = 32,\n",
        "    class_mode = 'binary')"
      ],
      "execution_count": null,
      "outputs": [
        {
          "output_type": "stream",
          "text": [
            "Found 600 images belonging to 2 classes.\n"
          ],
          "name": "stdout"
        }
      ]
    },
    {
      "cell_type": "code",
      "metadata": {
        "colab": {
          "base_uri": "https://localhost:8080/"
        },
        "id": "PaMrzlGGKHV8",
        "outputId": "bd09874f-28e9-4874-dda5-936146ae2398"
      },
      "source": [
        "hist = model.fit_generator(\n",
        "    train_generator,\n",
        "    steps_per_epoch=8,\n",
        "    epochs = 50,\n",
        "    validation_data = validation_generator,\n",
        "    validation_steps=2\n",
        ")"
      ],
      "execution_count": null,
      "outputs": [
        {
          "output_type": "stream",
          "text": [
            "/usr/local/lib/python3.7/dist-packages/keras/engine/training.py:1915: UserWarning: `Model.fit_generator` is deprecated and will be removed in a future version. Please use `Model.fit`, which supports generators.\n",
            "  warnings.warn('`Model.fit_generator` is deprecated and '\n"
          ],
          "name": "stderr"
        },
        {
          "output_type": "stream",
          "text": [
            "Epoch 1/50\n",
            "8/8 [==============================] - 215s 25s/step - loss: 0.8154 - accuracy: 0.5625 - val_loss: 0.6892 - val_accuracy: 0.4375\n",
            "Epoch 2/50\n",
            "8/8 [==============================] - 171s 21s/step - loss: 0.6456 - accuracy: 0.6445 - val_loss: 0.6268 - val_accuracy: 0.8750\n",
            "Epoch 3/50\n",
            "8/8 [==============================] - 152s 18s/step - loss: 0.4951 - accuracy: 0.7617 - val_loss: 0.5455 - val_accuracy: 0.7812\n",
            "Epoch 4/50\n",
            "8/8 [==============================] - 143s 17s/step - loss: 0.4079 - accuracy: 0.8672 - val_loss: 0.4638 - val_accuracy: 0.7812\n",
            "Epoch 5/50\n",
            "8/8 [==============================] - 121s 15s/step - loss: 0.3502 - accuracy: 0.8477 - val_loss: 0.4469 - val_accuracy: 0.8594\n",
            "Epoch 6/50\n",
            "8/8 [==============================] - 104s 12s/step - loss: 0.2509 - accuracy: 0.9219 - val_loss: 0.4975 - val_accuracy: 0.8125\n",
            "Epoch 7/50\n",
            "8/8 [==============================] - 101s 12s/step - loss: 0.2360 - accuracy: 0.9297 - val_loss: 0.6279 - val_accuracy: 0.7500\n",
            "Epoch 8/50\n",
            "8/8 [==============================] - 96s 11s/step - loss: 0.3063 - accuracy: 0.8945 - val_loss: 0.4387 - val_accuracy: 0.8750\n",
            "Epoch 9/50\n",
            "8/8 [==============================] - 93s 11s/step - loss: 0.2144 - accuracy: 0.9141 - val_loss: 0.4882 - val_accuracy: 0.8281\n",
            "Epoch 10/50\n",
            "8/8 [==============================] - 89s 11s/step - loss: 0.3258 - accuracy: 0.9180 - val_loss: 0.5643 - val_accuracy: 0.7500\n",
            "Epoch 11/50\n",
            "8/8 [==============================] - 87s 11s/step - loss: 0.2128 - accuracy: 0.9336 - val_loss: 0.5033 - val_accuracy: 0.8594\n",
            "Epoch 12/50\n",
            "8/8 [==============================] - 91s 11s/step - loss: 0.2267 - accuracy: 0.9375 - val_loss: 0.6504 - val_accuracy: 0.7188\n",
            "Epoch 13/50\n",
            "8/8 [==============================] - 83s 10s/step - loss: 0.2039 - accuracy: 0.9258 - val_loss: 0.4866 - val_accuracy: 0.8125\n",
            "Epoch 14/50\n",
            "8/8 [==============================] - 81s 10s/step - loss: 0.2257 - accuracy: 0.9375 - val_loss: 0.3990 - val_accuracy: 0.8438\n",
            "Epoch 15/50\n",
            "8/8 [==============================] - 81s 10s/step - loss: 0.2303 - accuracy: 0.9375 - val_loss: 0.4909 - val_accuracy: 0.7812\n",
            "Epoch 16/50\n",
            "8/8 [==============================] - 80s 10s/step - loss: 0.1749 - accuracy: 0.9531 - val_loss: 0.3529 - val_accuracy: 0.8594\n",
            "Epoch 17/50\n",
            "8/8 [==============================] - 80s 10s/step - loss: 0.2173 - accuracy: 0.9453 - val_loss: 0.4865 - val_accuracy: 0.8125\n",
            "Epoch 18/50\n",
            "8/8 [==============================] - 83s 10s/step - loss: 0.2031 - accuracy: 0.9531 - val_loss: 0.6528 - val_accuracy: 0.7812\n",
            "Epoch 19/50\n",
            "8/8 [==============================] - 77s 10s/step - loss: 0.2291 - accuracy: 0.9375 - val_loss: 0.4051 - val_accuracy: 0.8281\n",
            "Epoch 20/50\n",
            "8/8 [==============================] - 79s 10s/step - loss: 0.2689 - accuracy: 0.9258 - val_loss: 0.4732 - val_accuracy: 0.7500\n",
            "Epoch 21/50\n",
            "8/8 [==============================] - 78s 10s/step - loss: 0.2296 - accuracy: 0.9453 - val_loss: 0.5325 - val_accuracy: 0.7500\n",
            "Epoch 22/50\n",
            "8/8 [==============================] - 77s 9s/step - loss: 0.1806 - accuracy: 0.9414 - val_loss: 0.5056 - val_accuracy: 0.8281\n",
            "Epoch 23/50\n",
            "8/8 [==============================] - 77s 10s/step - loss: 0.2676 - accuracy: 0.8828 - val_loss: 0.4679 - val_accuracy: 0.7812\n",
            "Epoch 24/50\n",
            "8/8 [==============================] - 76s 9s/step - loss: 0.2842 - accuracy: 0.9219 - val_loss: 0.4090 - val_accuracy: 0.7969\n",
            "Epoch 25/50\n",
            "8/8 [==============================] - 76s 10s/step - loss: 0.3351 - accuracy: 0.9062 - val_loss: 0.5334 - val_accuracy: 0.7500\n",
            "Epoch 26/50\n",
            "8/8 [==============================] - 77s 9s/step - loss: 0.2551 - accuracy: 0.8984 - val_loss: 0.5279 - val_accuracy: 0.7500\n",
            "Epoch 27/50\n",
            "8/8 [==============================] - 76s 9s/step - loss: 0.2721 - accuracy: 0.9180 - val_loss: 0.6077 - val_accuracy: 0.8125\n",
            "Epoch 28/50\n",
            "8/8 [==============================] - 76s 10s/step - loss: 0.2277 - accuracy: 0.9023 - val_loss: 0.3547 - val_accuracy: 0.8750\n",
            "Epoch 29/50\n",
            "8/8 [==============================] - 77s 9s/step - loss: 0.2939 - accuracy: 0.9141 - val_loss: 0.4905 - val_accuracy: 0.7500\n",
            "Epoch 30/50\n",
            "8/8 [==============================] - 76s 10s/step - loss: 0.3415 - accuracy: 0.8945 - val_loss: 0.5101 - val_accuracy: 0.6719\n",
            "Epoch 31/50\n",
            "8/8 [==============================] - 77s 10s/step - loss: 0.2181 - accuracy: 0.9297 - val_loss: 0.5168 - val_accuracy: 0.7500\n",
            "Epoch 32/50\n",
            "8/8 [==============================] - 76s 10s/step - loss: 0.2312 - accuracy: 0.9141 - val_loss: 0.4708 - val_accuracy: 0.7500\n",
            "Epoch 33/50\n",
            "8/8 [==============================] - 76s 9s/step - loss: 0.1949 - accuracy: 0.9414 - val_loss: 0.4865 - val_accuracy: 0.7969\n",
            "Epoch 34/50\n",
            "8/8 [==============================] - 76s 10s/step - loss: 0.1757 - accuracy: 0.9414 - val_loss: 0.4826 - val_accuracy: 0.8125\n",
            "Epoch 35/50\n",
            "8/8 [==============================] - 76s 9s/step - loss: 0.2763 - accuracy: 0.8906 - val_loss: 0.3923 - val_accuracy: 0.8281\n",
            "Epoch 36/50\n",
            "8/8 [==============================] - 76s 10s/step - loss: 0.1921 - accuracy: 0.9414 - val_loss: 0.3069 - val_accuracy: 0.8906\n",
            "Epoch 37/50\n",
            "8/8 [==============================] - 76s 9s/step - loss: 0.2600 - accuracy: 0.8984 - val_loss: 0.4351 - val_accuracy: 0.7969\n",
            "Epoch 38/50\n",
            "8/8 [==============================] - 76s 9s/step - loss: 0.1976 - accuracy: 0.9453 - val_loss: 0.3192 - val_accuracy: 0.8594\n",
            "Epoch 39/50\n",
            "8/8 [==============================] - 76s 10s/step - loss: 0.2290 - accuracy: 0.9453 - val_loss: 0.5147 - val_accuracy: 0.7500\n",
            "Epoch 40/50\n",
            "8/8 [==============================] - 76s 10s/step - loss: 0.2110 - accuracy: 0.9297 - val_loss: 0.5402 - val_accuracy: 0.7969\n",
            "Epoch 41/50\n",
            "8/8 [==============================] - 77s 10s/step - loss: 0.2152 - accuracy: 0.9258 - val_loss: 0.4810 - val_accuracy: 0.8125\n",
            "Epoch 42/50\n",
            "8/8 [==============================] - 76s 10s/step - loss: 0.2268 - accuracy: 0.9180 - val_loss: 0.4774 - val_accuracy: 0.8750\n",
            "Epoch 43/50\n",
            "8/8 [==============================] - 76s 10s/step - loss: 0.2801 - accuracy: 0.9336 - val_loss: 0.5872 - val_accuracy: 0.7344\n",
            "Epoch 44/50\n",
            "8/8 [==============================] - 76s 10s/step - loss: 0.2003 - accuracy: 0.9414 - val_loss: 0.3664 - val_accuracy: 0.8750\n",
            "Epoch 45/50\n",
            "8/8 [==============================] - 76s 10s/step - loss: 0.2436 - accuracy: 0.9414 - val_loss: 0.4328 - val_accuracy: 0.8281\n",
            "Epoch 46/50\n",
            "8/8 [==============================] - 76s 10s/step - loss: 0.1871 - accuracy: 0.9453 - val_loss: 0.6083 - val_accuracy: 0.7344\n",
            "Epoch 47/50\n",
            "8/8 [==============================] - 76s 10s/step - loss: 0.2116 - accuracy: 0.9375 - val_loss: 0.5102 - val_accuracy: 0.7969\n",
            "Epoch 48/50\n",
            "8/8 [==============================] - 76s 10s/step - loss: 0.2254 - accuracy: 0.9258 - val_loss: 0.5468 - val_accuracy: 0.7344\n",
            "Epoch 49/50\n",
            "8/8 [==============================] - 76s 10s/step - loss: 0.1661 - accuracy: 0.9531 - val_loss: 0.4021 - val_accuracy: 0.7969\n",
            "Epoch 50/50\n",
            "8/8 [==============================] - 76s 9s/step - loss: 0.1749 - accuracy: 0.9531 - val_loss: 0.4759 - val_accuracy: 0.8281\n"
          ],
          "name": "stdout"
        }
      ]
    },
    {
      "cell_type": "code",
      "metadata": {
        "id": "Cvpke9R9-xV2"
      },
      "source": [
        "model.save('covid.h5')"
      ],
      "execution_count": null,
      "outputs": []
    },
    {
      "cell_type": "code",
      "metadata": {
        "colab": {
          "base_uri": "https://localhost:8080/"
        },
        "id": "Z7q-cxjRXgmL",
        "outputId": "118001f1-6f6c-4db9-9aab-30a4ba28e760"
      },
      "source": [
        "model.evaluate_generator(train_generator)"
      ],
      "execution_count": null,
      "outputs": [
        {
          "output_type": "stream",
          "text": [
            "/usr/local/lib/python3.7/dist-packages/keras/engine/training.py:1948: UserWarning: `Model.evaluate_generator` is deprecated and will be removed in a future version. Please use `Model.evaluate`, which supports generators.\n",
            "  warnings.warn('`Model.evaluate_generator` is deprecated and '\n"
          ],
          "name": "stderr"
        },
        {
          "output_type": "execute_result",
          "data": {
            "text/plain": [
              "[0.1558208018541336, 0.9537500143051147]"
            ]
          },
          "metadata": {
            "tags": []
          },
          "execution_count": 63
        }
      ]
    },
    {
      "cell_type": "code",
      "metadata": {
        "colab": {
          "base_uri": "https://localhost:8080/"
        },
        "id": "LqmJosWTXhgC",
        "outputId": "d5a5dda6-be6d-4156-c36e-f83f98e0466a"
      },
      "source": [
        "model.evaluate_generator(validation_generator)"
      ],
      "execution_count": null,
      "outputs": [
        {
          "output_type": "stream",
          "text": [
            "/usr/local/lib/python3.7/dist-packages/keras/engine/training.py:1948: UserWarning: `Model.evaluate_generator` is deprecated and will be removed in a future version. Please use `Model.evaluate`, which supports generators.\n",
            "  warnings.warn('`Model.evaluate_generator` is deprecated and '\n"
          ],
          "name": "stderr"
        },
        {
          "output_type": "execute_result",
          "data": {
            "text/plain": [
              "[0.5583229064941406, 0.7916666865348816]"
            ]
          },
          "metadata": {
            "tags": []
          },
          "execution_count": 27
        }
      ]
    },
    {
      "cell_type": "code",
      "metadata": {
        "id": "9cBO-jwmXsiQ"
      },
      "source": [
        "y_actual=[]\n",
        "y_test=[]"
      ],
      "execution_count": null,
      "outputs": []
    },
    {
      "cell_type": "code",
      "metadata": {
        "colab": {
          "base_uri": "https://localhost:8080/"
        },
        "id": "oMXr_5laXv-2",
        "outputId": "ad30f3c9-d1b6-4f8f-f290-e3673bb1975f"
      },
      "source": [
        "from PIL import Image\n",
        "for i in os.listdir(\"/content/drive/MyDrive/Colab Notebooks/cnn /Test/NORMAL\"):\n",
        "  img = image.load_img(\"/content/drive/MyDrive/Colab Notebooks/cnn /Test/NORMAL/\"+i, target_size = (224, 224))\n",
        "  img = image.img_to_array(img)\n",
        "  img = np.expand_dims(img, axis=0)\n",
        "  p = model.predict_classes(img)\n",
        "  y_test.append(p[0,0])\n",
        "  y_actual.append(1)"
      ],
      "execution_count": null,
      "outputs": [
        {
          "output_type": "stream",
          "text": [
            "/usr/local/lib/python3.7/dist-packages/keras/engine/sequential.py:450: UserWarning: `model.predict_classes()` is deprecated and will be removed after 2021-01-01. Please use instead:* `np.argmax(model.predict(x), axis=-1)`,   if your model does multi-class classification   (e.g. if it uses a `softmax` last-layer activation).* `(model.predict(x) > 0.5).astype(\"int32\")`,   if your model does binary classification   (e.g. if it uses a `sigmoid` last-layer activation).\n",
            "  warnings.warn('`model.predict_classes()` is deprecated and '\n"
          ],
          "name": "stderr"
        }
      ]
    },
    {
      "cell_type": "code",
      "metadata": {
        "colab": {
          "base_uri": "https://localhost:8080/"
        },
        "id": "tXtOXZT2XzZD",
        "outputId": "3ddcaf8a-c5c0-46e0-bfae-778fd7852d8e"
      },
      "source": [
        "for i in os.listdir(\"/content/drive/MyDrive/Colab Notebooks/cnn /Test/COVID/\"):\n",
        "  img = image.load_img(\"/content/drive/MyDrive/Colab Notebooks/cnn /Test/COVID/\"+i, target_size = (224, 224))\n",
        "  img = image.img_to_array(img)\n",
        "  img = np.expand_dims(img, axis=0)\n",
        "  p = model.predict_classes(img)\n",
        "  y_test.append(p[0,0])\n",
        "  y_actual.append(0)"
      ],
      "execution_count": null,
      "outputs": [
        {
          "output_type": "stream",
          "text": [
            "/usr/local/lib/python3.7/dist-packages/keras/engine/sequential.py:450: UserWarning: `model.predict_classes()` is deprecated and will be removed after 2021-01-01. Please use instead:* `np.argmax(model.predict(x), axis=-1)`,   if your model does multi-class classification   (e.g. if it uses a `softmax` last-layer activation).* `(model.predict(x) > 0.5).astype(\"int32\")`,   if your model does binary classification   (e.g. if it uses a `sigmoid` last-layer activation).\n",
            "  warnings.warn('`model.predict_classes()` is deprecated and '\n"
          ],
          "name": "stderr"
        }
      ]
    },
    {
      "cell_type": "code",
      "metadata": {
        "colab": {
          "base_uri": "https://localhost:8080/"
        },
        "id": "o61zFhF072zq",
        "outputId": "f23279e6-cf46-41ce-9d49-05eac70384f3"
      },
      "source": [
        "import numpy as np\n",
        "\n",
        "a=list(hist.history['accuracy'])\n",
        "b=list(hist.history['val_accuracy'])\n",
        "max_train=100*np.round(max(a),4)\n",
        "max_validation=100*np.round(max(b),4)\n",
        "\n",
        "#Finding max of Training accuracy\n",
        "print(\"Maximum Training Accuracy is\",max_train)\n",
        "\n",
        "#Finding max  validation accuracy\n",
        "print(\"Maximum Validtion Accuracy is\",max_validation)"
      ],
      "execution_count": null,
      "outputs": [
        {
          "output_type": "stream",
          "text": [
            "Maximum Training Accuracy is 95.30999999999999\n",
            "Maximum Validtion Accuracy is 89.05999999999999\n"
          ],
          "name": "stdout"
        }
      ]
    },
    {
      "cell_type": "code",
      "metadata": {
        "id": "0V06--UFX25D"
      },
      "source": [
        "from sklearn.metrics import confusion_matrix\n",
        "from sklearn.metrics import classification_report"
      ],
      "execution_count": null,
      "outputs": []
    },
    {
      "cell_type": "code",
      "metadata": {
        "id": "x0X27nHsX5nm"
      },
      "source": [
        "y_actual=np.array(y_actual)\n",
        "y_test=np.array(y_test)"
      ],
      "execution_count": null,
      "outputs": []
    },
    {
      "cell_type": "code",
      "metadata": {
        "id": "IF476A0qX8cH"
      },
      "source": [
        "cm=confusion_matrix(y_actual,y_test)"
      ],
      "execution_count": null,
      "outputs": []
    },
    {
      "cell_type": "code",
      "metadata": {
        "id": "VvGoMFUfX9Hx",
        "colab": {
          "base_uri": "https://localhost:8080/"
        },
        "outputId": "e23a5f84-b414-4e5c-efd5-43f2d5dd9af3"
      },
      "source": [
        "cm"
      ],
      "execution_count": null,
      "outputs": [
        {
          "output_type": "execute_result",
          "data": {
            "text/plain": [
              "array([[300,   0],\n",
              "       [287,  13]])"
            ]
          },
          "metadata": {
            "tags": []
          },
          "execution_count": 71
        }
      ]
    },
    {
      "cell_type": "code",
      "metadata": {
        "id": "tJGyjiC2eUMe"
      },
      "source": [
        "import pylab as pl"
      ],
      "execution_count": null,
      "outputs": []
    },
    {
      "cell_type": "code",
      "metadata": {
        "colab": {
          "base_uri": "https://localhost:8080/",
          "height": 264
        },
        "id": "JSHiWOUoeYAX",
        "outputId": "a47255e7-5adc-41a4-93c1-8c8365c832e9"
      },
      "source": [
        "cm=confusion_matrix(y_actual,y_test)\n",
        "pl.matshow(cm)\n",
        "pl.title('Confusion Matrix of the Classifier')\n",
        "pl.colorbar()\n",
        "plt.xlabel('Predicted')\n",
        "plt.ylabel('True')\n",
        "pl.show()"
      ],
      "execution_count": null,
      "outputs": [
        {
          "output_type": "display_data",
          "data": {
            "image/png": "[encoded data removed]",
            "text/plain": [
              "<Figure size 288x288 with 2 Axes>"
            ]
          },
          "metadata": {
            "tags": [],
            "needs_background": "light"
          }
        }
      ]
    },
    {
      "cell_type": "code",
      "metadata": {
        "id": "GvApO_lCYA2y"
      },
      "source": [
        "import seaborn as sns"
      ],
      "execution_count": null,
      "outputs": []
    },
    {
      "cell_type": "code",
      "metadata": {
        "colab": {
          "base_uri": "https://localhost:8080/"
        },
        "id": "h5FPSCxOYF6F",
        "outputId": "e9438751-80b5-4fa8-f06c-c59490f95112"
      },
      "source": [
        "print(classification_report(y_actual, y_test, target_names=['COVID','NON-COVID']))"
      ],
      "execution_count": null,
      "outputs": [
        {
          "output_type": "stream",
          "text": [
            "              precision    recall  f1-score   support\n",
            "\n",
            "       COVID       0.51      1.00      0.68       300\n",
            "   NON-COVID       1.00      0.04      0.08       300\n",
            "\n",
            "    accuracy                           0.52       600\n",
            "   macro avg       0.76      0.52      0.38       600\n",
            "weighted avg       0.76      0.52      0.38       600\n",
            "\n"
          ],
          "name": "stdout"
        }
      ]
    },
    {
      "cell_type": "code",
      "metadata": {
        "colab": {
          "base_uri": "https://localhost:8080/"
        },
        "id": "EFohl7jIYPdE",
        "outputId": "1e28c620-5b19-4938-c0bc-eb702b10fb67"
      },
      "source": [
        "from sklearn.metrics import accuracy_score, f1_score, precision_score, recall_score, classification_report, confusion_matrix\n",
        "precision = precision_score(y_actual, y_test)\n",
        "print('Precision: %f' % precision)\n",
        "# recall: tp / (tp + fn)\n",
        "recall = recall_score(y_actual, y_test)\n",
        "print('Recall: %f' % recall)\n",
        "# f1: 2 tp / (2 tp + fp + fn)\n",
        "f1 = f1_score(y_actual, y_test)\n",
        "print('F1 score: %f' % f1)"
      ],
      "execution_count": null,
      "outputs": [
        {
          "output_type": "stream",
          "text": [
            "Precision: 1.000000\n",
            "Recall: 0.043333\n",
            "F1 score: 0.083067\n"
          ],
          "name": "stdout"
        }
      ]
    }
  ]
}